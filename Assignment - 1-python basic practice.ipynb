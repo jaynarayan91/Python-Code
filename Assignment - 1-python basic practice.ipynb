{
 "cells": [
  {
   "cell_type": "code",
   "execution_count": 10,
   "id": "85dd75f3",
   "metadata": {},
   "outputs": [],
   "source": [
    "name = 'Jay Narayan'"
   ]
  },
  {
   "cell_type": "code",
   "execution_count": 11,
   "id": "13f58900",
   "metadata": {},
   "outputs": [],
   "source": [
    "age = 19"
   ]
  },
  {
   "cell_type": "code",
   "execution_count": 12,
   "id": "53f8e932",
   "metadata": {},
   "outputs": [],
   "source": [
    "has_android_phone = True"
   ]
  },
  {
   "cell_type": "code",
   "execution_count": 26,
   "id": "e6d287e1",
   "metadata": {},
   "outputs": [
    {
     "data": {
      "text/plain": [
       "('Jay Narayan', 19, True)"
      ]
     },
     "execution_count": 26,
     "metadata": {},
     "output_type": "execute_result"
    }
   ],
   "source": [
    "name, age, has_android_phone"
   ]
  },
  {
   "cell_type": "code",
   "execution_count": 27,
   "id": "b3b06df2",
   "metadata": {},
   "outputs": [],
   "source": [
    "person = {\n",
    "    'Name' : name,\n",
    "    'Age' : age,\n",
    "    'Android phone' : True\n",
    "}"
   ]
  },
  {
   "cell_type": "code",
   "execution_count": 28,
   "id": "708d5bb2",
   "metadata": {},
   "outputs": [
    {
     "name": "stdout",
     "output_type": "stream",
     "text": [
      "Jay Narayan is aged 19, and owns an Android phone.\n"
     ]
    }
   ],
   "source": [
    "print(\"{} is aged {}, and owns an {}.\".format(\n",
    "      person[\"Name\"],\n",
    "      person[\"Age\"],\n",
    "      \"Android phone\"if person [\"Android phone\"]else \"iphone\"\n",
    "))"
   ]
  },
  {
   "cell_type": "code",
   "execution_count": 29,
   "id": "a99b1997",
   "metadata": {},
   "outputs": [
    {
     "name": "stdout",
     "output_type": "stream",
     "text": [
      "The Key {'Name'} has the value Jay Narayan  of the type  <class 'str'>\n",
      "The Key {'Age'} has the value 19  of the type  <class 'int'>\n",
      "The Key {'Android phone'} has the value True  of the type  <class 'bool'>\n"
     ]
    }
   ],
   "source": [
    "#The key \"Name\" has the value \"Jay Narayan\" of the type \"<class 'str'>\"\n",
    "for key in person:\n",
    "    print(\"The Key\", {key}, \"has the value\", person[key], \" of the type \", type(person[key]) )\n",
    "    "
   ]
  },
  {
   "cell_type": "code",
   "execution_count": 31,
   "id": "148b3af6",
   "metadata": {},
   "outputs": [],
   "source": [
    "#Problem:2"
   ]
  },
  {
   "cell_type": "code",
   "execution_count": 54,
   "id": "9496d588",
   "metadata": {},
   "outputs": [],
   "source": [
    "my_list = ['Black', '8', False]"
   ]
  },
  {
   "cell_type": "code",
   "execution_count": 55,
   "id": "8b98d4f1",
   "metadata": {},
   "outputs": [
    {
     "data": {
      "text/plain": [
       "['Black', '8', False]"
      ]
     },
     "execution_count": 55,
     "metadata": {},
     "output_type": "execute_result"
    }
   ],
   "source": [
    "my_list"
   ]
  },
  {
   "cell_type": "code",
   "execution_count": 56,
   "id": "a7b26b8f",
   "metadata": {},
   "outputs": [
    {
     "name": "stdout",
     "output_type": "stream",
     "text": [
      "My favourite color is  Black\n"
     ]
    }
   ],
   "source": [
    "print('My favourite color is ',my_list[0])"
   ]
  },
  {
   "cell_type": "code",
   "execution_count": 57,
   "id": "dae14b5e",
   "metadata": {},
   "outputs": [
    {
     "name": "stdout",
     "output_type": "stream",
     "text": [
      "I Have 8 pet(s).\n"
     ]
    }
   ],
   "source": [
    "print('I Have {} pet(s).'.format(my_list[1]))"
   ]
  },
  {
   "cell_type": "code",
   "execution_count": 58,
   "id": "c94bc431",
   "metadata": {},
   "outputs": [
    {
     "name": "stdout",
     "output_type": "stream",
     "text": [
      "I do not have previous programming experience\n"
     ]
    }
   ],
   "source": [
    "if my_list[2]:\n",
    "    print(\"I have previous programming experience\")\n",
    "else:\n",
    "    print(\"I do not have previous programming experience\")"
   ]
  },
  {
   "cell_type": "code",
   "execution_count": 1,
   "id": "1b4cb933",
   "metadata": {},
   "outputs": [
    {
     "name": "stdout",
     "output_type": "stream",
     "text": [
      "['Black', '8', False, 4]\n"
     ]
    }
   ],
   "source": [
    "my_list = ['Black', '8', False]\n",
    "my_list.append (4)\n",
    "print(my_list)"
   ]
  },
  {
   "cell_type": "code",
   "execution_count": null,
   "id": "a26e68b9",
   "metadata": {},
   "outputs": [],
   "source": []
  }
 ],
 "metadata": {
  "kernelspec": {
   "display_name": "Python 3",
   "language": "python",
   "name": "python3"
  },
  "language_info": {
   "codemirror_mode": {
    "name": "ipython",
    "version": 3
   },
   "file_extension": ".py",
   "mimetype": "text/x-python",
   "name": "python",
   "nbconvert_exporter": "python",
   "pygments_lexer": "ipython3",
   "version": "3.8.8"
  }
 },
 "nbformat": 4,
 "nbformat_minor": 5
}
