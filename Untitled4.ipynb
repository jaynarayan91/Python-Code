{
 "cells": [
  {
   "cell_type": "code",
   "execution_count": 3,
   "id": "1bbf0cd3",
   "metadata": {},
   "outputs": [
    {
     "name": "stdout",
     "output_type": "stream",
     "text": [
      "Hello World\n"
     ]
    }
   ],
   "source": [
    "print(\"Hello World\")"
   ]
  },
  {
   "cell_type": "code",
   "execution_count": 2,
   "id": "042bb683",
   "metadata": {},
   "outputs": [
    {
     "name": "stdout",
     "output_type": "stream",
     "text": [
      "Jay Narayan!!!\n"
     ]
    }
   ],
   "source": [
    "print(\"Jay Narayan!!!\")"
   ]
  },
  {
   "cell_type": "code",
   "execution_count": 12,
   "id": "657bb37f",
   "metadata": {},
   "outputs": [
    {
     "data": {
      "text/plain": [
       "'name of varia = 6'"
      ]
     },
     "execution_count": 12,
     "metadata": {},
     "output_type": "execute_result"
    }
   ],
   "source": [
    "\"name of varia = 6\""
   ]
  },
  {
   "cell_type": "code",
   "execution_count": 9,
   "id": "17db52c3",
   "metadata": {},
   "outputs": [
    {
     "data": {
      "text/plain": [
       "'name of varia'"
      ]
     },
     "execution_count": 9,
     "metadata": {},
     "output_type": "execute_result"
    }
   ],
   "source": [
    "\"name of varia\""
   ]
  },
  {
   "cell_type": "code",
   "execution_count": null,
   "id": "9a4768c4",
   "metadata": {},
   "outputs": [],
   "source": []
  }
 ],
 "metadata": {
  "kernelspec": {
   "display_name": "Python 3 (ipykernel)",
   "language": "python",
   "name": "python3"
  },
  "language_info": {
   "codemirror_mode": {
    "name": "ipython",
    "version": 3
   },
   "file_extension": ".py",
   "mimetype": "text/x-python",
   "name": "python",
   "nbconvert_exporter": "python",
   "pygments_lexer": "ipython3",
   "version": "3.8.8"
  }
 },
 "nbformat": 4,
 "nbformat_minor": 5
}
