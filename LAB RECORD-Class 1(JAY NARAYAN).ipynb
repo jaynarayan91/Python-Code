

Aim of the experiment :- Write program to print any statement or Name?


 [
    {
     "name": "stdout",
     "output_type": "stream",
     "text": [
      "Hello World !!!\n"
     ]
    }
   ],
   "source": [
    "print (\"Hello World !!!\")"
   ]
  },
  {
   "cell_type": "code",
   "execution_count": 3,
   "id": "c01d9b6a",
   "metadata": {},
   "outputs": [
    {
     "name": "stdout",
     "output_type": "stream",
     "text": [
      "Jay Narayan !!!\n"
     ]
    }
   ],
   "source": [
    "print (\"Jay Narayan !!!\")"
   ]
  

OUTPUT:-
Conclusion:- By doing above experiment we successfully print the Statement.
EXPERIMENT � 2:-
Aim of the experiment :- Write a program to Add, Subtract, Multiply and Divide the two numbers?

  {
   "cell_type": "code",
   "execution_count": 4,
   "id": "8b45f28b",
   "metadata": {},
   "outputs": [
    {
     "data": {
      "text/plain": [
       "2"
      ]
     },
     "execution_count": 4,
     "metadata": {},
     "output_type": "execute_result"
    }
   ],
   "source": [
    "1+1"
   ]
  },
  {
   "cell_type": "code",
   "execution_count": 7,
   "id": "0c30790c",
   "metadata": {},
   "outputs": [
    {
     "data": {
      "text/plain": [
       "3"
      ]
     },
     "execution_count": 7,
     "metadata": {},
     "output_type": "execute_result"
    }
   ],
   "source": [
    "1*3"
   ]
  },
  {
   "cell_type": "markdown",
   "id": "581acf77",
   "metadata": {},
   "source": []
  },
  {
   "cell_type": "code",
   "execution_count": 9,
   "id": "8da82fb2",
   "metadata": {},
   "outputs": [
    {
     "data": {
      "text/plain": [
       "0.5"
      ]
     },
     "execution_count": 9,
     "metadata": {},
     "output_type": "execute_result"
    }
   ],
   "source": [
    "1/2 #Division"
   ]
  },
  {
   "cell_type": "code",
   "execution_count": 11,
   "id": "2f096c53",
   "metadata": {},
   "outputs": [
    {
     "data": {
      "text/plain": [
       "16"
      ]
     },
     "execution_count": 11,
     "metadata": {},
     "output_type": "execute_result"
    }
   ]

Output:-



Conclusion:- By doing above experiment we successfully find the value of numbers.



EXPERIMENT � 3:-
Aim of the experiment :-Write a program to find the value of Exponent, Operators and Assignment value?

   "source": [
    "2 ** 4 #Exponent"
   ]
  },
  {
   "cell_type": "code",
   "execution_count": 1,
   "id": "2a36c1fa",
   "metadata": {},
   "outputs": [
    {
     "data": {
      "text/plain": [
       "0"
      ]
     },
     "execution_count": 1,
     "metadata": {},
     "output_type": "execute_result"
    }
   ],
   "source": [
    "4 % 2 #modulus operator"
   ]
  },
  {
   "cell_type": "code",
   "execution_count": 13,
   "id": "12966536",
   "metadata": {},
   "outputs": [
    {
     "data": {
      "text/plain": [
       "50"
      ]
     },
     "execution_count": 13,
     "metadata": {},
     "output_type": "execute_result"
    }
   ],
   "source": [
    "(2+3) * (5+5)"
   ]
  }


Output:-




Input:-
,
  {
   "cell_type": "code",
   "execution_count": 8,
   "id": "900d8d2d",
   "metadata": {},
   "outputs": [],
   "source": [
    "name_of_varia=6"
   ]
  },
  {
   "cell_type": "code",
   "execution_count": 15,
   "id": "83b9e80a",
   "metadata": {},
   "outputs": [
    {
     "data": {
      "text/plain": [
       "6"
      ]
     },
     "execution_count": 15,
     "metadata": {},
     "output_type": "execute_result"
    }
   ],
   "source": [
    "name_of_varia"
   ]
  },
  {
   "cell_type": "code",
   "execution_count": 16,
   "id": "593f2f94",
   "metadata": {},
   "outputs": [],
   "source": [
    "signofvariable=8"
   ]
  },
  {
   "cell_type": "code",
   "execution_count": 17,
   "id": "8dee0e67",
   "metadata": {},
   "outputs": [
    {
     "data": {
      "text/plain": [
       "8"
      ]
     },
     "execution_count": 17,
     "metadata": {},
     "output_type": "execute_result"
    }
   ],
   "source": [
    "signofvariable"
   ]
  }

Output:-





Input:-
,
  {
   "cell_type": "code",
   "execution_count": 18,
   "id": "4dda163b",
   "metadata": {},
   "outputs": [],
   "source": [
    "x=2\n",
    "y=3"
   ]
  },
  {
   "cell_type": "code",
   "execution_count": 19,
   "id": "a5bd052f",
   "metadata": {},
   "outputs": [],
   "source": [
    "z=x+y"
   ]
  },
  {
   "cell_type": "code",
   "execution_count": 21,
   "id": "f07d136e",
   "metadata": {},
   "outputs": [],
   "source": [
    "z=2+3"
   ]
  },
  {
   "cell_type": "code",
   "execution_count": 22,
   "id": "b183c657",
   "metadata": {},
   "outputs": [
    {
     "data": {
      "text/plain": [
       "5"
      ]
     },
     "execution_count": 22,
     "metadata": {},
     "output_type": "execute_result"
    }
   ],
   "source": [
    "z"
   ]
  },
  {
   "cell_type": "code",
   "execution_count": 23,
   "id": "df1fc6c5",
   "metadata": {},
   "outputs": [
    {
     "data": {
      "text/plain": [
       "'single quotes'"
      ]
     },
     "execution_count": 23,
     "metadata": {},
     "output_type": "execute_result"
    }
   ],
   "source": [
    "'single quotes'"
   ]
  },
  {
   "cell_type": "code",
   "execution_count": 24,
   "id": "b5a52d31",
   "metadata": {},
   "outputs": [
    {
     "data": {
      "text/plain": [
       "\"'double quotes\""
      ]
     },
     "execution_count": 24,
     "metadata": {},
     "output_type": "execute_result"
    }
   ],
   "source": [
    "\"'double quotes\""
   ]
  },
  {
   "cell_type": "code",
   "execution_count": 25,
   "id": "8f893af0",
   "metadata": {},
   "outputs": [
    {
     "data": {
      "text/plain": [
       "\"wrap lot's of other quotes\""
      ]
     },
     "execution_count": 25,
     "metadata": {},
     "output_type": "execute_result"
    }
   ],
   "source": [
    "\"wrap lot's of other quotes\""
   ]
  }
Output:-




Input:-

  {
   "cell_type": "code",
   "execution_count": 26,
   "id": "3edd91aa",
   "metadata": {},
   "outputs": [],
   "source": [
    "x='hello'"
   ]
  },
  {
   "cell_type": "code",
   "execution_count": 27,
   "id": "e0dc0b70",
   "metadata": {},
   "outputs": [
    {
     "data": {
      "text/plain": [
       "'hello'"
      ]
     },
     "execution_count": 27,
     "metadata": {},
     "output_type": "execute_result"
    }
   ],
   "source": [
    "x"
   ]
  },
  {
   "cell_type": "code",
   "execution_count": 28,
   "id": "f4256117",
   "metadata": {},
   "outputs": [
    {
     "name": "stdout",
     "output_type": "stream",
     "text": [
      "hello\n"
     ]
    }
   ],
   "source": [
    "print(x)"
   ]
  },
  {
   "cell_type": "code",
   "execution_count": 29,
   "id": "db3881c5",
   "metadata": {},
   "outputs": [
    {
     "name": "stdout",
     "output_type": "stream",
     "text": [
      "My number is  210101120091 and my name is Jay Narayan\n"
     ]
    }
   ],
   "source": [
    "num=210101120091\n",
    "name= 'Jay Narayan'\n",
    "#My number is 91 and my name is Jay.\n",
    "print ('My number is ',num,'and my name is',name)"
   ]
  },
  {
   "cell_type": "code",
   "execution_count": 2,
   "id": "14c81346",
   "metadata": {},
   "outputs": [
    {
     "data": {
      "text/plain": [
       "14"
      ]
     },
     "execution_count": 2,
     "metadata": {},
     "output_type": "execute_result"
    }
   ],
   "source": [
    "100//7"
   ]
  },
  {
   "cell_type": "code",
   "execution_count": 3,
   "id": "dafe3fa8",
   "metadata": {},
   "outputs": [
    {
     "data": {
      "text/plain": [
       "13.0"
      ]
     },
     "execution_count": 3,
     "metadata": {},
     "output_type": "execute_result"
    }
   ],
   "source": [
    "100.0 // 7.5"
   ]
  }
Output:-




Conclusion :-The above experiment is successfully implemented.




EXPERIMENT � 4:-
Aim of the experiment :- Write a program to solve the Word Problem by Given Value?
  {
   "cell_type": "code",
   "execution_count": 13,
   "id": "c7278e15",
   "metadata": {},
   "outputs": [
    {
     "name": "stdout",
     "output_type": "stream",
     "text": [
      "Total population 198658\n",
      "Men population 45312\n",
      "Women population 35678\n",
      "Children population 117668\n"
     ]
    }
   ],
   "source": [
    "Total_population = 198658\n",
    "print(\"Total population\",Total_population)\n",
    "Men_population = 45312\n",
    "print(\"Men population\",Men_population)\n",
    "Women_population = 35678\n",
    "print(\"Women population\",Women_population)\n",
    "Child_population = Total_population-(Men_population+Women_population)\n",
    "print(\"Children population\",Child_population)"
   ]
  },
  {
   "cell_type": "code",
   "execution_count": null,
   "id": "41a8e4ab",
   "metadata": {},
   "outputs": [],
   "source": []
  }
 ],
 "metadata": {
  "kernelspec": {
   "display_name": "Python 3",
   "language": "python",
   "name": "python3"
  },
  "language_info": {
   "codemirror_mode": {
    "name": "ipython",
    "version": 3
   },
   "file_extension": ".py",
   "mimetype": "text/x-python",
   "name": "python",
   "nbconvert_exporter": "python",
   "pygments_lexer": "ipython3",
   "version": "3.8.8"
  }
 },
 "nbformat": 4,
 "nbformat_minor": 5
}
Output:-

Input:
  {
   "cell_type": "code",
   "execution_count": 1,
   "id": "302fd59a",
   "metadata": {},
   "outputs": [
    {
     "name": "stdout",
     "output_type": "stream",
     "text": [
      "No of total boxes 2425\n",
      "No of pencils in the boxes 24\n",
      "Total no of pencils 58200\n"
     ]
    }
   ],
   "source": [
    "No_of_total_boxes = 2425\n",
    "print(\"No of total boxes\",No_of_total_boxes)\n",
    "No_of_pencils_in_the_boxes = 24\n",
    "print(\"No of pencils in the boxes\",No_of_pencils_in_the_boxes)\n",
    "Total_no_of_pencils = No_of_total_boxes * No_of_pencils_in_the_boxes\n",
    "print(\"Total no of pencils\",Total_no_of_pencils)"
   ]
  },
  {
   "cell_type": "code",
   "execution_count": 2,
   "id": "0521df09",
   "metadata": {},
   "outputs": [
    {
     "name": "stdout",
     "output_type": "stream",
     "text": [
      "Total no of TV sets 21\n",
      "Total cost of 21 TV sets 95844\n",
      "Cost of 1 TV set 4564.0\n"
     ]
    }
   ],
   "source": [
    "Total_no_of_TV_sets = 21\n",
    "print(\"Total no of TV sets\",Total_no_of_TV_sets)\n",
    "Total_cost_of_21_TV_sets = 95844\n",
    "print(\"Total cost of 21 TV sets\",Total_cost_of_21_TV_sets)\n",
    "Cost_of_1_TV_set = Total_cost_of_21_TV_sets/Total_no_of_TV_sets\n",
    "print(\"Cost of 1 TV set\",Cost_of_1_TV_set)"
   ]
  },
  {
   "cell_type": "code",
   "execution_count": 5,
   "id": "e6811071",
   "metadata": {},
   "outputs": [
    {
     "name": "stdout",
     "output_type": "stream",
     "text": [
      "Cost of 1 radio set 1475\n",
      "Total no of radio sets 35\n",
      "Cost of 35 radio sets $51625\n"
     ]
    }
   ],
   "source": [
    "Cost_of_1_radio_set = 1475\n",
    "print(\"Cost of 1 radio set\",Cost_of_1_radio_set)\n",
    "Total_no_of_radio_sets = 35\n",
    "print(\"Total no of radio sets\",Total_no_of_radio_sets)\n",
    "Cost_of_35_radio_sets = Cost_of_1_radio_set*Total_no_of_radio_sets\n",
    "print('Cost of 35 radio sets $'+str(Cost_of_35_radio_sets))"
   ]
  }


Output:-







Input:-
  {
   "cell_type": "code",
   "execution_count": 3,
   "id": "6fcc179d",
   "metadata": {},
   "outputs": [
    {
     "name": "stdout",
     "output_type": "stream",
     "text": [
      "Total no of bags 450000\n",
      "No of bags of sugar 145968\n",
      "No of bags of wheat 236487\n",
      "No of bags of rice 67545\n"
     ]
    }
   ],
   "source": [
    "Total_no_of_bags = 450000\n",
    "print(\"Total no of bags\",Total_no_of_bags)\n",
    "No_of_bags_of_sugar = 145968\n",
    "print(\"No of bags of sugar\",No_of_bags_of_sugar)\n",
    "No_of_bags_of_wheat = 236487\n",
    "print(\"No of bags of wheat\",No_of_bags_of_wheat)\n",
    "No_of_bags_of_rice = Total_no_of_bags-(No_of_bags_of_sugar+No_of_bags_of_wheat)\n",
    "print(\"No of bags of rice\",No_of_bags_of_rice)"
   ]
  },
  {
   "cell_type": "code",
   "execution_count": 7,
   "id": "b5b786e7",
   "metadata": {},
   "outputs": [
    {
     "name": "stdout",
     "output_type": "stream",
     "text": [
      "people voted for Ron 52496\n",
      "people voted for John 44929\n",
      "people voted for Mike 36824\n",
      "total no of voters 134249\n"
     ]
    }
   ],
   "source": [
    "people_voted_for_Ron = 52496\n",
    "print(\"people voted for Ron\",people_voted_for_Ron)\n",
    "people_voted_for_John = 44929\n",
    "print(\"people voted for John\",people_voted_for_John)\n",
    "people_voted_for_Mike = 36824\n",
    "print(\"people voted for Mike\",people_voted_for_Mike)\n",
    "total_no_of_voters = people_voted_for_Ron+people_voted_for_John+people_voted_for_Mike\n",
    "print(\"total no of voters\",total_no_of_voters)"
   ]
  },
  {
   "cell_type": "code",
   "execution_count": 16,
   "id": "825cf87c",
   "metadata": {},
   "outputs": [
    {
     "name": "stdout",
     "output_type": "stream",
     "text": [
      "price of 96 toys = 12960\n",
      "price of each toy = 135.0\n",
      "total amount Maria had $13975\n"
     ]
    }
   ],
   "source": [
    "No_of_total_toys = 96\n",
    "price_of_96_toys = 12960\n",
    "print(\"price of 96 toys =\",price_of_96_toys)\n",
    "price_of_each_toy = price_of_96_toys/No_of_total_toys\n",
    "print(\"price of each toy =\",price_of_each_toy)\n",
    "the_amount_she_still_left = 1015\n",
    "total_amount_Maria_had = price_of_96_toys+the_amount_she_still_left\n",
    "print('total amount Maria had $'+ str(total_amount_Maria_had))"
   ]
  },
  {
   "cell_type": "code",
   "execution_count": 15,
   "id": "8eb1b23f",
   "metadata": {
    "scrolled": true
   },
   "outputs": [
    {
     "name": "stdout",
     "output_type": "stream",
     "text": [
      "Datatype is No_of_total_toys <class 'int'>\n",
      "Datatype is price_of_96_toys <class 'int'>\n",
      "Datatype is price_of_each_toy <class 'float'>\n"
     ]
    }
   ],
   "source": [
    "print(\"Datatype is No_of_total_toys\",type(No_of_total_toys))\n",
    "print(\"Datatype is price_of_96_toys\",type(price_of_96_toys))\n",
    "print(\"Datatype is price_of_each_toy\",type(price_of_each_toy))"
   ]
  },
  {
   "cell_type": "code",
   "execution_count": 9,
   "id": "9b50d8a3",
   "metadata": {},
   "outputs": [
    {
     "name": "stdout",
     "output_type": "stream",
     "text": [
      "input from keyboard=5\n",
      "y= 25\n"
     ]
    }
   ],
   "source": [
    "x = input(\"input from keyboard=\")\n",
    "#x is int\n",
    "y = int(x)**2\n",
    "print('y=',y)"
   �Source�:[
�Input from keyboard=5
Y=25
]
}
Output:-




Conclusion:- The above experiment is successfully implemented.

EXPERIMENT � 5:-
Aim of the experiment :-Write a program to find the Boolean Value?
{
 "cells": [
  {
   "cell_type": "code",
   "execution_count": 8,
   "id": "26182aa0",
   "metadata": {},
   "outputs": [
    {
     "data": {
      "text/plain": [
       "True"
      ]
     },
     "execution_count": 8,
     "metadata": {},
     "output_type": "execute_result"
    }
   ],
   "source": [
    "#equality check - True\n",
    "my_favourite_number = 3\n",
    "my_least_favourite_number = 5\n",
    "a_neutral_number = 1\n",
    "my_favourite_number == 3"
   ]
  },
  {
   "cell_type": "code",
   "execution_count": 6,
   "id": "a84d7071",
   "metadata": {},
   "outputs": [
    {
     "data": {
      "text/plain": [
       "False"
      ]
     },
     "execution_count": 6,
     "metadata": {},
     "output_type": "execute_result"
    }
   ],
   "source": [
    "#Equality Check - False\n",
    "my_favourite_number == my_least_favourite_number"
   ]
  },
  {
   "cell_type": "code",
   "execution_count": 10,
   "id": "31018fd4",
   "metadata": {},
   "outputs": [
    {
     "data": {
      "text/plain": [
       "False"
      ]
     },
     "execution_count": 10,
     "metadata": {},
     "output_type": "execute_result"
    }
   ],
   "source": [
    "#Equality Check - False\n",
    "my_favourite_number == a_neutral_number"
   ]
  },
  {
   "cell_type": "code",
   "execution_count": 12,
   "id": "a0ac3689",
   "metadata": {},
   "outputs": [],
   "source": [
    "favourite_number = 4\n",
    "least_favourite_number = 8\n",
    "a_even_number = 10"
   ]
  },
  {
   "cell_type": "code",
   "execution_count": 15,
   "id": "b5b46997",
   "metadata": {},
   "outputs": [
    {
     "data": {
      "text/plain": [
       "False"
      ]
     },
     "execution_count": 15,
     "metadata": {},
     "output_type": "execute_result"
    }
   ],
   "source": [
    "favourite_number == a_even_number"
   ]
  },
  {
   "cell_type": "code",
   "execution_count": 16,
   "id": "00251c8f",
   "metadata": {},
   "outputs": [
    {
     "data": {
      "text/plain": [
       "True"
      ]
     },
     "execution_count": 16,
     "metadata": {},
     "output_type": "execute_result"
    }
   ],
   "source": [
    "least_favourite_number != a_even_number"
   ]
  },
  {
   "cell_type": "code",
   "execution_count": 17,
   "id": "5f978bdd",
   "metadata": {},
   "outputs": [
    {
     "data": {
      "text/plain": [
       "False"
      ]
     },
     "execution_count": 17,
     "metadata": {},
     "output_type": "execute_result"
    }
   ],
   "source": [
    "favourite_number == least_favourite_number"
   ]
  },
  {
   "cell_type": "code",
   "execution_count": 18,
   "id": "e4dbe82c",
   "metadata": {},
   "outputs": [
    {
     "data": {
      "text/plain": [
       "False"
      ]
     },
     "execution_count": 18,
     "metadata": {},
     "output_type": "execute_result"
    }
   ],
   "source": [
    "favourite_number >= least_favourite_number"
   ]
  }
Output:-


Conclusion:- By doing above experiment we successfully implemented above result.

EXPERIMENT � 6:-
Aim of the experiment :- Write a program to find the value of number from input from keyboard?
{
   "cell_type": "code",
   "execution_count": 8,
   "id": "8d7b924e",
   "metadata": {},
   "outputs": [
    {
     "name": "stdout",
     "output_type": "stream",
     "text": [
      "input from keyboard4\n",
      "square of a number 16\n"
     ]
    }
   ],
   "source": [
    "#1\n",
    "x = input('input from keyboard')\n",
    "x = int(x)\n",
    "x = x**2\n",
    "print(\"square of a number\",x)"
   ]
  },
  {
   "cell_type": "code",
   "execution_count": 9,
   "id": "ce1716f1",
   "metadata": {},
   "outputs": [
    {
     "name": "stdout",
     "output_type": "stream",
     "text": [
      "input from keyboard5\n",
      "cube of a number 125\n"
     ]
    }
   ],
   "source": [
    "#2\n",
    "x = input('input from keyboard')\n",
    "x = int(x)\n",
    "x = x**3\n",
    "print(\"cube of a number\",x)"
   ]
  },
  {
   "cell_type": "code",
   "execution_count": 10,
   "id": "ba91b2ed",
   "metadata": {},
   "outputs": [
    {
     "name": "stdout",
     "output_type": "stream",
     "text": [
      "input from keyboard2\n",
      "10 power of the number 1024\n"
     ]
    }
   ],
   "source": [
    "#3\n",
    "x = input('input from keyboard')\n",
    "x = int(x)\n",
    "x = x**10\n",
    "print(\"10 power of the number\",x)"
   ]
  }
Output:-
Conclusion:- By doing above experiment we successfully implemented above result.


































































