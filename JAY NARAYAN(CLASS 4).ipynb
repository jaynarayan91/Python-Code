{
 "cells": [
  {
   "cell_type": "code",
   "execution_count": 7,
   "id": "cf528fea",
   "metadata": {},
   "outputs": [
    {
     "name": "stdout",
     "output_type": "stream",
     "text": [
      "Costs of the plane $5000\n",
      "No of the people 29\n",
      "Cost of per ticket $200\n",
      "Profit made by the company $800\n"
     ]
    }
   ],
   "source": [
    "#0 \n",
    "Costs_of_the_plane = 5000\n",
    "print('Costs of the plane $'+str(Costs_of_the_plane))\n",
    "No_of_the_people = 29\n",
    "print(\"No of the people\",No_of_the_people)\n",
    "Cost_of_per_ticket = 200\n",
    "print('Cost of per ticket $'+str(Cost_of_per_ticket))\n",
    "Profit_made_by_the_company = Cost_of_per_ticket*No_of_the_people-Costs_of_the_plane\n",
    "print('Profit made by the company $'+str(Profit_made_by_the_company))"
   ]
  },
  {
   "cell_type": "code",
   "execution_count": 8,
   "id": "8d7b924e",
   "metadata": {},
   "outputs": [
    {
     "name": "stdout",
     "output_type": "stream",
     "text": [
      "input from keyboard4\n",
      "square of a number 16\n"
     ]
    }
   ],
   "source": [
    "#1\n",
    "x = input('input from keyboard')\n",
    "x = int(x)\n",
    "x = x**2\n",
    "print(\"square of a number\",x)"
   ]
  },
  {
   "cell_type": "code",
   "execution_count": 9,
   "id": "ce1716f1",
   "metadata": {},
   "outputs": [
    {
     "name": "stdout",
     "output_type": "stream",
     "text": [
      "input from keyboard5\n",
      "cube of a number 125\n"
     ]
    }
   ],
   "source": [
    "#2\n",
    "x = input('input from keyboard')\n",
    "x = int(x)\n",
    "x = x**3\n",
    "print(\"cube of a number\",x)"
   ]
  },
  {
   "cell_type": "code",
   "execution_count": 10,
   "id": "ba91b2ed",
   "metadata": {},
   "outputs": [
    {
     "name": "stdout",
     "output_type": "stream",
     "text": [
      "input from keyboard2\n",
      "10 power of the number 1024\n"
     ]
    }
   ],
   "source": [
    "#3\n",
    "x = input('input from keyboard')\n",
    "x = int(x)\n",
    "x = x**10\n",
    "print(\"10 power of the number\",x)"
   ]
  },
  {
   "cell_type": "code",
   "execution_count": 11,
   "id": "270a8348",
   "metadata": {},
   "outputs": [
    {
     "name": "stdout",
     "output_type": "stream",
     "text": [
      "No of MB in 1 GB 1024\n",
      "No of RAM size given in GB 10\n",
      "the size of RAM in MB 10240\n"
     ]
    }
   ],
   "source": [
    "#4\n",
    "No_of_MB_in_1_GB = 1024\n",
    "print(\"No of MB in 1 GB\",No_of_MB_in_1_GB)\n",
    "No_of_RAM_size_given_in_GB = 10\n",
    "print(\"No of RAM size given in GB\",No_of_RAM_size_given_in_GB)\n",
    "the_size_of_RAM_in_MB = No_of_RAM_size_given_in_GB*No_of_MB_in_1_GB\n",
    "print(\"the size of RAM in MB\",the_size_of_RAM_in_MB)"
   ]
  },
  {
   "cell_type": "code",
   "execution_count": 1,
   "id": "d05d1b13",
   "metadata": {
    "scrolled": true
   },
   "outputs": [
    {
     "name": "stdout",
     "output_type": "stream",
     "text": [
      "a number:10\n",
      "ten binary 20\n"
     ]
    }
   ],
   "source": [
    "#5\n",
    "single_bit_in_binary = 2\n",
    "two_binary = 4\n",
    "ten_binary = (single_bit_in_binary*10) \n",
    "a = input(\"a number:\")\n",
    "print(\"ten binary\",ten_binary)"
   ]
  },
  {
   "cell_type": "code",
   "execution_count": 2,
   "id": "65ed5b10",
   "metadata": {},
   "outputs": [
    {
     "name": "stdout",
     "output_type": "stream",
     "text": [
      "a number15\n",
      "N binary 30\n"
     ]
    }
   ],
   "source": [
    "#6\n",
    "single_bit_in_binary = 2\n",
    "two_binary = 4\n",
    "N_binary = (single_bit_in_binary*15)\n",
    "a = input(\"a number\")\n",
    "print(\"N binary\",N_binary)"
   ]
  },
  {
   "cell_type": "code",
   "execution_count": 2,
   "id": "9db0d006",
   "metadata": {},
   "outputs": [
    {
     "name": "stdout",
     "output_type": "stream",
     "text": [
      "enter first number:5\n",
      "enter second number:8\n",
      "sum: 13.0\n"
     ]
    }
   ],
   "source": [
    "#7\n",
    "a = float(input(\"enter first number:\"))\n",
    "b = float(input(\"enter second number:\"))\n",
    "sum = a+b\n",
    "print(\"sum:\",sum)"
   ]
  },
  {
   "cell_type": "code",
   "execution_count": 4,
   "id": "3927d405",
   "metadata": {},
   "outputs": [
    {
     "name": "stdout",
     "output_type": "stream",
     "text": [
      "enter first number:16\n",
      "enter second number:4\n",
      "division: 4.0\n"
     ]
    }
   ],
   "source": [
    "#8\n",
    "a = float(input(\"enter first number:\"))\n",
    "b = float(input(\"enter second number:\"))\n",
    "division = a/b\n",
    "print(\"division:\",division)"
   ]
  },
  {
   "cell_type": "code",
   "execution_count": 6,
   "id": "a52f7d2c",
   "metadata": {},
   "outputs": [
    {
     "name": "stdout",
     "output_type": "stream",
     "text": [
      "enter first number:2\n",
      "enter second number:4\n",
      "exponential value 16\n"
     ]
    }
   ],
   "source": [
    "#9\n",
    "base = int(input(\"enter first number:\"))\n",
    "exponent = int(input(\"enter second number:\"))\n",
    "print(\"exponential value\",base**exponent)"
   ]
  },
  {
   "cell_type": "code",
   "execution_count": 1,
   "id": "83fd6189",
   "metadata": {},
   "outputs": [
    {
     "name": "stdout",
     "output_type": "stream",
     "text": [
      "No of bench required 20.0\n"
     ]
    }
   ],
   "source": [
    "#10.1\n",
    "No_of_students = 100\n",
    "No_of_students_in_a_single_bench = 5\n",
    "No_of_bench_required = No_of_students/No_of_students_in_a_single_bench\n",
    "print(\"No of bench required\",No_of_bench_required)"
   ]
  },
  {
   "cell_type": "code",
   "execution_count": 4,
   "id": "3c5ae030",
   "metadata": {},
   "outputs": [
    {
     "name": "stdout",
     "output_type": "stream",
     "text": [
      "No of bench required 31.0\n"
     ]
    }
   ],
   "source": [
    "#10.2\n",
    "No_of_students = 155\n",
    "No_of_students_in_a_single_bench = 5\n",
    "No_of_bench_required =  No_of_students/No_of_students_in_a_single_bench\n",
    "print(\"No of bench required\",No_of_bench_required)"
   ]
  },
  {
   "cell_type": "code",
   "execution_count": 6,
   "id": "33722e37",
   "metadata": {},
   "outputs": [
    {
     "name": "stdout",
     "output_type": "stream",
     "text": [
      "No of bench required 38.6\n"
     ]
    }
   ],
   "source": [
    "#10.3\n",
    "No_of_students = 193\n",
    "No_of_students_in_a_single_bench = 5\n",
    "No_of_bench_required = No_of_students/No_of_students_in_a_single_bench\n",
    "print(\"No of bench required\",No_of_bench_required)"
   ]
  },
  {
   "cell_type": "code",
   "execution_count": 7,
   "id": "9993acd5",
   "metadata": {},
   "outputs": [
    {
     "name": "stdout",
     "output_type": "stream",
     "text": [
      "No of bench required 40.8\n"
     ]
    }
   ],
   "source": [
    "#10.4\n",
    "No_of_students = 204\n",
    "No_of_students_in_a_single_bench = 5\n",
    "No_of_bench_required = No_of_students/No_of_students_in_a_single_bench\n",
    "print(\"No of bench required\",No_of_bench_required)"
   ]
  },
  {
   "cell_type": "code",
   "execution_count": 8,
   "id": "5cbcd264",
   "metadata": {},
   "outputs": [
    {
     "name": "stdout",
     "output_type": "stream",
     "text": [
      "No of bench required 103.8\n"
     ]
    }
   ],
   "source": [
    "#10.5\n",
    "No_of_students = 519\n",
    "No_of_students_in_a_single_bench = 5\n",
    "No_of_bench_required = No_of_students/No_of_students_in_a_single_bench\n",
    "print(\"No of bench required\",No_of_bench_required)"
   ]
  },
  {
   "cell_type": "code",
   "execution_count": 1,
   "id": "fe0570f9",
   "metadata": {},
   "outputs": [
    {
     "name": "stdout",
     "output_type": "stream",
     "text": [
      "enter first number:4\n",
      "enter first number:8\n",
      "8\n",
      "is the maximum\n"
     ]
    }
   ],
   "source": [
    "#11\n",
    "a = int(input(\"enter first number:\"))\n",
    "b = int(input(\"enter first number:\"))\n",
    "if a>b:\n",
    "    print(a)\n",
    "else:\n",
    "    print(b)\n",
    "print('is the maximum')    "
   ]
  },
  {
   "cell_type": "code",
   "execution_count": null,
   "id": "1e45239d",
   "metadata": {},
   "outputs": [],
   "source": []
  }
 ],
 "metadata": {
  "kernelspec": {
   "display_name": "Python 3 (ipykernel)",
   "language": "python",
   "name": "python3"
  },
  "language_info": {
   "codemirror_mode": {
    "name": "ipython",
    "version": 3
   },
   "file_extension": ".py",
   "mimetype": "text/x-python",
   "name": "python",
   "nbconvert_exporter": "python",
   "pygments_lexer": "ipython3",
   "version": "3.8.8"
  }
 },
 "nbformat": 4,
 "nbformat_minor": 5
}
