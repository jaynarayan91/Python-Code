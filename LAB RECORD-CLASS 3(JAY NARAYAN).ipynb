{
 "cells": [
  {
   "cell_type": "code",
   "execution_count": 7,
   "id": "75d6fab2",
   "metadata": {},
   "outputs": [
    {
     "name": "stdout",
     "output_type": "stream",
     "text": [
      "the base of triangle 10\n",
      "the height of triangle 20\n",
      "area of the triangle 100.0\n"
     ]
    }
   ],
   "source": [
    "the_base_of_triangle = 10 \n",
    "print(\"the base of triangle\",the_base_of_triangle)\n",
    "the_height_of_triangle = 20 \n",
    "print(\"the height of triangle\",the_height_of_triangle)\n",
    "area_of_the_triangle = 1/2*the_base_of_triangle*the_height_of_triangle\n",
    "print(\"area of the triangle\",area_of_the_triangle)"
   ]
  },
  {
   "cell_type": "code",
   "execution_count": 13,
   "id": "198c6230",
   "metadata": {},
   "outputs": [
    {
     "name": "stdout",
     "output_type": "stream",
     "text": [
      "2024 is a leap year\n"
     ]
    }
   ],
   "source": [
    "Year = 2024\n",
    "if(Year % 4)==0:\n",
    "    if(Year % 100)==0:\n",
    "        if(Year % 400)==0:\n",
    "            print(\"{0} is a leap year\".format(Year))\n",
    "        else:\n",
    "            print(\"{0} is not a leap year\".format(Year))\n",
    "    else:\n",
    "        print(\"{0} is a leap year\".format(Year))\n",
    "else:\n",
    "    print(\"{0} is not a leap year\".format(Year))\n",
    "        "
   ]
  },
  {
   "cell_type": "code",
   "execution_count": 28,
   "id": "c4f907f9",
   "metadata": {},
   "outputs": [
    {
     "name": "stdout",
     "output_type": "stream",
     "text": [
      "temperature in fahernheit 96.8\n"
     ]
    }
   ],
   "source": [
    "temperature_in_celsius=36\n",
    "temperature_in_fahernheit=(temperature_in_celsius*9/5+32)\n",
    "print(\"temperature in fahernheit\",temperature_in_fahernheit)"
   ]
  },
  {
   "cell_type": "code",
   "execution_count": 26,
   "id": "4bf05a78",
   "metadata": {},
   "outputs": [
    {
     "name": "stdout",
     "output_type": "stream",
     "text": [
      "temperature in celsius 12.222222222222221\n"
     ]
    }
   ],
   "source": [
    "temperature_in_fahernheit=54\n",
    "temperature_in_celsius=(temperature_in_fahernheit-32)*5/9\n",
    "print(\"temperature in celsius\",temperature_in_celsius)"
   ]
  },
  {
   "cell_type": "code",
   "execution_count": null,
   "id": "87b8b0e8",
   "metadata": {},
   "outputs": [],
   "source": []
  },
  {
   "cell_type": "code",
   "execution_count": null,
   "id": "e2933afa",
   "metadata": {},
   "outputs": [],
   "source": []
  },
  {
   "cell_type": "code",
   "execution_count": null,
   "id": "af0a8779",
   "metadata": {},
   "outputs": [],
   "source": []
  }
 ],
 "metadata": {
  "kernelspec": {
   "display_name": "Python 3 (ipykernel)",
   "language": "python",
   "name": "python3"
  },
  "language_info": {
   "codemirror_mode": {
    "name": "ipython",
    "version": 3
   },
   "file_extension": ".py",
   "mimetype": "text/x-python",
   "name": "python",
   "nbconvert_exporter": "python",
   "pygments_lexer": "ipython3",
   "version": "3.8.8"
  }
 },
 "nbformat": 4,
 "nbformat_minor": 5
}
