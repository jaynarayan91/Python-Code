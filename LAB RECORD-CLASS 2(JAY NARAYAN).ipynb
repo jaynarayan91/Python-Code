{
 "cells": [
  {
   "cell_type": "code",
   "execution_count": 1,
   "id": "15f65c45",
   "metadata": {},
   "outputs": [
    {
     "data": {
      "text/plain": [
       "2"
      ]
     },
     "execution_count": 1,
     "metadata": {},
     "output_type": "execute_result"
    }
   ],
   "source": [
    "11%3"
   ]
  },
  {
   "cell_type": "code",
   "execution_count": 1,
   "id": "302fd59a",
   "metadata": {},
   "outputs": [
    {
     "name": "stdout",
     "output_type": "stream",
     "text": [
      "No of total boxes 2425\n",
      "No of pencils in the boxes 24\n",
      "Total no of pencils 58200\n"
     ]
    }
   ],
   "source": [
    "No_of_total_boxes = 2425\n",
    "print(\"No of total boxes\",No_of_total_boxes)\n",
    "No_of_pencils_in_the_boxes = 24\n",
    "print(\"No of pencils in the boxes\",No_of_pencils_in_the_boxes)\n",
    "Total_no_of_pencils = No_of_total_boxes * No_of_pencils_in_the_boxes\n",
    "print(\"Total no of pencils\",Total_no_of_pencils)"
   ]
  },
  {
   "cell_type": "code",
   "execution_count": 2,
   "id": "0521df09",
   "metadata": {},
   "outputs": [
    {
     "name": "stdout",
     "output_type": "stream",
     "text": [
      "Total no of TV sets 21\n",
      "Total cost of 21 TV sets 95844\n",
      "Cost of 1 TV set 4564.0\n"
     ]
    }
   ],
   "source": [
    "Total_no_of_TV_sets = 21\n",
    "print(\"Total no of TV sets\",Total_no_of_TV_sets)\n",
    "Total_cost_of_21_TV_sets = 95844\n",
    "print(\"Total cost of 21 TV sets\",Total_cost_of_21_TV_sets)\n",
    "Cost_of_1_TV_set = Total_cost_of_21_TV_sets/Total_no_of_TV_sets\n",
    "print(\"Cost of 1 TV set\",Cost_of_1_TV_set)"
   ]
  },
  {
   "cell_type": "code",
   "execution_count": 5,
   "id": "e6811071",
   "metadata": {},
   "outputs": [
    {
     "name": "stdout",
     "output_type": "stream",
     "text": [
      "Cost of 1 radio set 1475\n",
      "Total no of radio sets 35\n",
      "Cost of 35 radio sets $51625\n"
     ]
    }
   ],
   "source": [
    "Cost_of_1_radio_set = 1475\n",
    "print(\"Cost of 1 radio set\",Cost_of_1_radio_set)\n",
    "Total_no_of_radio_sets = 35\n",
    "print(\"Total no of radio sets\",Total_no_of_radio_sets)\n",
    "Cost_of_35_radio_sets = Cost_of_1_radio_set*Total_no_of_radio_sets\n",
    "print('Cost of 35 radio sets $'+str(Cost_of_35_radio_sets))"
   ]
  },
  {
   "cell_type": "code",
   "execution_count": 3,
   "id": "6fcc179d",
   "metadata": {},
   "outputs": [
    {
     "name": "stdout",
     "output_type": "stream",
     "text": [
      "Total no of bags 450000\n",
      "No of bags of sugar 145968\n",
      "No of bags of wheat 236487\n",
      "No of bags of rice 67545\n"
     ]
    }
   ],
   "source": [
    "Total_no_of_bags = 450000\n",
    "print(\"Total no of bags\",Total_no_of_bags)\n",
    "No_of_bags_of_sugar = 145968\n",
    "print(\"No of bags of sugar\",No_of_bags_of_sugar)\n",
    "No_of_bags_of_wheat = 236487\n",
    "print(\"No of bags of wheat\",No_of_bags_of_wheat)\n",
    "No_of_bags_of_rice = Total_no_of_bags-(No_of_bags_of_sugar+No_of_bags_of_wheat)\n",
    "print(\"No of bags of rice\",No_of_bags_of_rice)"
   ]
  },
  {
   "cell_type": "code",
   "execution_count": 7,
   "id": "b5b786e7",
   "metadata": {},
   "outputs": [
    {
     "name": "stdout",
     "output_type": "stream",
     "text": [
      "people voted for Ron 52496\n",
      "people voted for John 44929\n",
      "people voted for Mike 36824\n",
      "total no of voters 134249\n"
     ]
    }
   ],
   "source": [
    "people_voted_for_Ron = 52496\n",
    "print(\"people voted for Ron\",people_voted_for_Ron)\n",
    "people_voted_for_John = 44929\n",
    "print(\"people voted for John\",people_voted_for_John)\n",
    "people_voted_for_Mike = 36824\n",
    "print(\"people voted for Mike\",people_voted_for_Mike)\n",
    "total_no_of_voters = people_voted_for_Ron+people_voted_for_John+people_voted_for_Mike\n",
    "print(\"total no of voters\",total_no_of_voters)"
   ]
  },
  {
   "cell_type": "code",
   "execution_count": 16,
   "id": "825cf87c",
   "metadata": {},
   "outputs": [
    {
     "name": "stdout",
     "output_type": "stream",
     "text": [
      "price of 96 toys = 12960\n",
      "price of each toy = 135.0\n",
      "total amount Maria had $13975\n"
     ]
    }
   ],
   "source": [
    "No_of_total_toys = 96\n",
    "price_of_96_toys = 12960\n",
    "print(\"price of 96 toys =\",price_of_96_toys)\n",
    "price_of_each_toy = price_of_96_toys/No_of_total_toys\n",
    "print(\"price of each toy =\",price_of_each_toy)\n",
    "the_amount_she_still_left = 1015\n",
    "total_amount_Maria_had = price_of_96_toys+the_amount_she_still_left\n",
    "print('total amount Maria had $'+ str(total_amount_Maria_had))"
   ]
  },
  {
   "cell_type": "code",
   "execution_count": 15,
   "id": "8eb1b23f",
   "metadata": {
    "scrolled": true
   },
   "outputs": [
    {
     "name": "stdout",
     "output_type": "stream",
     "text": [
      "Datatype is No_of_total_toys <class 'int'>\n",
      "Datatype is price_of_96_toys <class 'int'>\n",
      "Datatype is price_of_each_toy <class 'float'>\n"
     ]
    }
   ],
   "source": [
    "print(\"Datatype is No_of_total_toys\",type(No_of_total_toys))\n",
    "print(\"Datatype is price_of_96_toys\",type(price_of_96_toys))\n",
    "print(\"Datatype is price_of_each_toy\",type(price_of_each_toy))"
   ]
  },
  {
   "cell_type": "code",
   "execution_count": 9,
   "id": "9b50d8a3",
   "metadata": {},
   "outputs": [
    {
     "name": "stdout",
     "output_type": "stream",
     "text": [
      "input from keyboard=5\n",
      "y= 25\n"
     ]
    }
   ],
   "source": [
    "x = input(\"input from keyboard=\")\n",
    "#x is int\n",
    "y = int(x)**2\n",
    "print('y=',y)"
   ]
  },
  {
   "cell_type": "code",
   "execution_count": null,
   "id": "2c21840c",
   "metadata": {},
   "outputs": [],
   "source": []
  },
  {
   "cell_type": "code",
   "execution_count": null,
   "id": "8c694173",
   "metadata": {},
   "outputs": [],
   "source": []
  }
 ],
 "metadata": {
  "kernelspec": {
   "display_name": "Python 3 (ipykernel)",
   "language": "python",
   "name": "python3"
  },
  "language_info": {
   "codemirror_mode": {
    "name": "ipython",
    "version": 3
   },
   "file_extension": ".py",
   "mimetype": "text/x-python",
   "name": "python",
   "nbconvert_exporter": "python",
   "pygments_lexer": "ipython3",
   "version": "3.8.8"
  }
 },
 "nbformat": 4,
 "nbformat_minor": 5
}
