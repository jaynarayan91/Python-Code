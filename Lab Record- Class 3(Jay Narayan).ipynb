{
 "cells": [
  {
   "cell_type": "code",
   "execution_count": 8,
   "id": "26182aa0",
   "metadata": {},
   "outputs": [
    {
     "data": {
      "text/plain": [
       "True"
      ]
     },
     "execution_count": 8,
     "metadata": {},
     "output_type": "execute_result"
    }
   ],
   "source": [
    "#equality check - True\n",
    "my_favourite_number = 3\n",
    "my_least_favourite_number = 5\n",
    "a_neutral_number = 1\n",
    "my_favourite_number == 3"
   ]
  },
  {
   "cell_type": "code",
   "execution_count": 6,
   "id": "a84d7071",
   "metadata": {},
   "outputs": [
    {
     "data": {
      "text/plain": [
       "False"
      ]
     },
     "execution_count": 6,
     "metadata": {},
     "output_type": "execute_result"
    }
   ],
   "source": [
    "#Equality Check - False\n",
    "my_favourite_number == my_least_favourite_number"
   ]
  },
  {
   "cell_type": "code",
   "execution_count": 10,
   "id": "31018fd4",
   "metadata": {},
   "outputs": [
    {
     "data": {
      "text/plain": [
       "False"
      ]
     },
     "execution_count": 10,
     "metadata": {},
     "output_type": "execute_result"
    }
   ],
   "source": [
    "#Equality Check - False\n",
    "my_favourite_number == a_neutral_number"
   ]
  },
  {
   "cell_type": "code",
   "execution_count": 12,
   "id": "a0ac3689",
   "metadata": {},
   "outputs": [],
   "source": [
    "favourite_number = 4\n",
    "least_favourite_number = 8\n",
    "a_even_number = 10"
   ]
  },
  {
   "cell_type": "code",
   "execution_count": 15,
   "id": "b5b46997",
   "metadata": {},
   "outputs": [
    {
     "data": {
      "text/plain": [
       "False"
      ]
     },
     "execution_count": 15,
     "metadata": {},
     "output_type": "execute_result"
    }
   ],
   "source": [
    "favourite_number == a_even_number"
   ]
  },
  {
   "cell_type": "code",
   "execution_count": 16,
   "id": "00251c8f",
   "metadata": {},
   "outputs": [
    {
     "data": {
      "text/plain": [
       "True"
      ]
     },
     "execution_count": 16,
     "metadata": {},
     "output_type": "execute_result"
    }
   ],
   "source": [
    "least_favourite_number != a_even_number"
   ]
  },
  {
   "cell_type": "code",
   "execution_count": 17,
   "id": "5f978bdd",
   "metadata": {},
   "outputs": [
    {
     "data": {
      "text/plain": [
       "False"
      ]
     },
     "execution_count": 17,
     "metadata": {},
     "output_type": "execute_result"
    }
   ],
   "source": [
    "favourite_number == least_favourite_number"
   ]
  },
  {
   "cell_type": "code",
   "execution_count": 18,
   "id": "e4dbe82c",
   "metadata": {},
   "outputs": [
    {
     "data": {
      "text/plain": [
       "False"
      ]
     },
     "execution_count": 18,
     "metadata": {},
     "output_type": "execute_result"
    }
   ],
   "source": [
    "favourite_number >= least_favourite_number"
   ]
  },
  {
   "cell_type": "code",
   "execution_count": 19,
   "id": "76ec7fce",
   "metadata": {},
   "outputs": [
    {
     "data": {
      "text/plain": [
       "True"
      ]
     },
     "execution_count": 19,
     "metadata": {},
     "output_type": "execute_result"
    }
   ],
   "source": [
    "least_favourite_number != a_even_number"
   ]
  },
  {
   "cell_type": "code",
   "execution_count": 21,
   "id": "94f3e8f9",
   "metadata": {},
   "outputs": [
    {
     "data": {
      "text/plain": [
       "False"
      ]
     },
     "execution_count": 21,
     "metadata": {},
     "output_type": "execute_result"
    }
   ],
   "source": [
    "a_even_number == least_favourite_number"
   ]
  },
  {
   "cell_type": "code",
   "execution_count": 22,
   "id": "16c0e565",
   "metadata": {},
   "outputs": [
    {
     "data": {
      "text/plain": [
       "True"
      ]
     },
     "execution_count": 22,
     "metadata": {},
     "output_type": "execute_result"
    }
   ],
   "source": [
    "a_even_number >= favourite_number"
   ]
  },
  {
   "cell_type": "code",
   "execution_count": 24,
   "id": "23ef1e7f",
   "metadata": {},
   "outputs": [
    {
     "data": {
      "text/plain": [
       "False"
      ]
     },
     "execution_count": 24,
     "metadata": {},
     "output_type": "execute_result"
    }
   ],
   "source": [
    "least_favourite_number <= favourite_number"
   ]
  },
  {
   "cell_type": "code",
   "execution_count": 25,
   "id": "a891ad19",
   "metadata": {},
   "outputs": [
    {
     "data": {
      "text/plain": [
       "False"
      ]
     },
     "execution_count": 25,
     "metadata": {},
     "output_type": "execute_result"
    }
   ],
   "source": [
    "favourite_number > a_even_number"
   ]
  },
  {
   "cell_type": "code",
   "execution_count": 26,
   "id": "81c8ae9a",
   "metadata": {},
   "outputs": [
    {
     "data": {
      "text/plain": [
       "True"
      ]
     },
     "execution_count": 26,
     "metadata": {},
     "output_type": "execute_result"
    }
   ],
   "source": [
    "4 + 8 <= 12"
   ]
  },
  {
   "cell_type": "code",
   "execution_count": 27,
   "id": "565c140c",
   "metadata": {},
   "outputs": [
    {
     "data": {
      "text/plain": [
       "True"
      ]
     },
     "execution_count": 27,
     "metadata": {},
     "output_type": "execute_result"
    }
   ],
   "source": [
    "favourite_number + a_even_number <= 14"
   ]
  },
  {
   "cell_type": "code",
   "execution_count": 28,
   "id": "b0c13cf4",
   "metadata": {},
   "outputs": [
    {
     "data": {
      "text/plain": [
       "False"
      ]
     },
     "execution_count": 28,
     "metadata": {},
     "output_type": "execute_result"
    }
   ],
   "source": [
    "4 + 8 != 12"
   ]
  },
  {
   "cell_type": "code",
   "execution_count": null,
   "id": "25d00d0b",
   "metadata": {},
   "outputs": [],
   "source": [
    "x = int(input(\"enter a first number\"))\n",
    "y = int(input(\"enter a second number\"))\n",
    "sum = x+y\n",
    "print(\"sum is\",sum)"
   ]
  },
  {
   "cell_type": "code",
   "execution_count": 1,
   "id": "c7f03e4a",
   "metadata": {},
   "outputs": [
    {
     "name": "stdout",
     "output_type": "stream",
     "text": [
      "enter a first number:6\n",
      "enter a second number:8\n",
      "sum is: 14\n"
     ]
    }
   ],
   "source": [
    "x = int(input(\"enter a first number:\"))\n",
    "y = int(input(\"enter a second number:\"))\n",
    "sum = x+y\n",
    "print(\"sum is:\",sum)"
   ]
  },
  {
   "cell_type": "code",
   "execution_count": 3,
   "id": "e12b14a4",
   "metadata": {},
   "outputs": [
    {
     "name": "stdout",
     "output_type": "stream",
     "text": [
      "is the ice bag expensive? True\n"
     ]
    }
   ],
   "source": [
    "cost_of_ice_bag = 16.25\n",
    "is_ice_bag_expensive = cost_of_ice_bag >=9\n",
    "print(\"is the ice bag expensive?\",is_ice_bag_expensive)"
   ]
  },
  {
   "cell_type": "code",
   "execution_count": 6,
   "id": "4e7deca6",
   "metadata": {},
   "outputs": [],
   "source": [
    "favourite_number = 4\n",
    "least_favourite_number = 8\n",
    "a_even_number = 10"
   ]
  },
  {
   "cell_type": "code",
   "execution_count": 7,
   "id": "22052d69",
   "metadata": {},
   "outputs": [
    {
     "data": {
      "text/plain": [
       "False"
      ]
     },
     "execution_count": 7,
     "metadata": {},
     "output_type": "execute_result"
    }
   ],
   "source": [
    "a_even_number != 10 or favourite_number < 0"
   ]
  },
  {
   "cell_type": "code",
   "execution_count": 8,
   "id": "070faf46",
   "metadata": {},
   "outputs": [
    {
     "data": {
      "text/plain": [
       "True"
      ]
     },
     "execution_count": 8,
     "metadata": {},
     "output_type": "execute_result"
    }
   ],
   "source": [
    "favourite_number < 0 or True"
   ]
  },
  {
   "cell_type": "code",
   "execution_count": 11,
   "id": "2b9cd3f7",
   "metadata": {},
   "outputs": [
    {
     "data": {
      "text/plain": [
       "True"
      ]
     },
     "execution_count": 11,
     "metadata": {},
     "output_type": "execute_result"
    }
   ],
   "source": [
    "a_even_number > 10 or True"
   ]
  },
  {
   "cell_type": "code",
   "execution_count": 12,
   "id": "bd5fe977",
   "metadata": {},
   "outputs": [
    {
     "data": {
      "text/plain": [
       "True"
      ]
     },
     "execution_count": 12,
     "metadata": {},
     "output_type": "execute_result"
    }
   ],
   "source": [
    "not False"
   ]
  },
  {
   "cell_type": "code",
   "execution_count": 13,
   "id": "8ceff337",
   "metadata": {},
   "outputs": [
    {
     "data": {
      "text/plain": [
       "False"
      ]
     },
     "execution_count": 13,
     "metadata": {},
     "output_type": "execute_result"
    }
   ],
   "source": [
    "not a_even_number ** 10"
   ]
  },
  {
   "cell_type": "code",
   "execution_count": 14,
   "id": "530fcf77",
   "metadata": {},
   "outputs": [
    {
     "data": {
      "text/plain": [
       "False"
      ]
     },
     "execution_count": 14,
     "metadata": {},
     "output_type": "execute_result"
    }
   ],
   "source": [
    "not favourite_number < 6"
   ]
  },
  {
   "cell_type": "code",
   "execution_count": null,
   "id": "0c777c15",
   "metadata": {},
   "outputs": [],
   "source": []
  }
 ],
 "metadata": {
  "kernelspec": {
   "display_name": "Python 3 (ipykernel)",
   "language": "python",
   "name": "python3"
  },
  "language_info": {
   "codemirror_mode": {
    "name": "ipython",
    "version": 3
   },
   "file_extension": ".py",
   "mimetype": "text/x-python",
   "name": "python",
   "nbconvert_exporter": "python",
   "pygments_lexer": "ipython3",
   "version": "3.8.8"
  }
 },
 "nbformat": 4,
 "nbformat_minor": 5
}
