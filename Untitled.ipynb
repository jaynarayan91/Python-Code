{
 "cells": [
  {
   "cell_type": "code",
   "execution_count": 1,
   "id": "32de0877",
   "metadata": {},
   "outputs": [
    {
     "data": {
      "text/plain": [
       "14"
      ]
     },
     "execution_count": 1,
     "metadata": {},
     "output_type": "execute_result"
    }
   ],
   "source": [
    "2+3+9"
   ]
  },
  {
   "cell_type": "code",
   "execution_count": 2,
   "id": "656c7df1",
   "metadata": {},
   "outputs": [
    {
     "data": {
      "text/plain": [
       "27"
      ]
     },
     "execution_count": 2,
     "metadata": {},
     "output_type": "execute_result"
    }
   ],
   "source": [
    "99-72"
   ]
  },
  {
   "cell_type": "code",
   "execution_count": 3,
   "id": "17661e75",
   "metadata": {},
   "outputs": [
    {
     "data": {
      "text/plain": [
       "-33709.28"
      ]
     },
     "execution_count": 3,
     "metadata": {},
     "output_type": "execute_result"
    }
   ],
   "source": [
    "23.54*-1432"
   ]
  },
  {
   "cell_type": "code",
   "execution_count": 4,
   "id": "7808f3bd",
   "metadata": {},
   "outputs": [
    {
     "data": {
      "text/plain": [
       "14.285714285714286"
      ]
     },
     "execution_count": 4,
     "metadata": {},
     "output_type": "execute_result"
    }
   ],
   "source": [
    "100/7"
   ]
  },
  {
   "cell_type": "code",
   "execution_count": 5,
   "id": "73977f54",
   "metadata": {},
   "outputs": [
    {
     "data": {
      "text/plain": [
       "14"
      ]
     },
     "execution_count": 5,
     "metadata": {},
     "output_type": "execute_result"
    }
   ],
   "source": [
    "100//7"
   ]
  },
  {
   "cell_type": "code",
   "execution_count": 6,
   "id": "c53a2f0b",
   "metadata": {},
   "outputs": [
    {
     "data": {
      "text/plain": [
       "14.0"
      ]
     },
     "execution_count": 6,
     "metadata": {},
     "output_type": "execute_result"
    }
   ],
   "source": [
    "100.0//7.0"
   ]
  },
  {
   "cell_type": "code",
   "execution_count": 7,
   "id": "82b8ec31",
   "metadata": {},
   "outputs": [
    {
     "data": {
      "text/plain": [
       "13.0"
      ]
     },
     "execution_count": 7,
     "metadata": {},
     "output_type": "execute_result"
    }
   ],
   "source": [
    "100.5//7.5"
   ]
  },
  {
   "cell_type": "code",
   "execution_count": 8,
   "id": "4818d140",
   "metadata": {},
   "outputs": [
    {
     "data": {
      "text/plain": [
       "0"
      ]
     },
     "execution_count": 8,
     "metadata": {},
     "output_type": "execute_result"
    }
   ],
   "source": [
    "2//5\n"
   ]
  },
  {
   "cell_type": "code",
   "execution_count": 9,
   "id": "3440c965",
   "metadata": {},
   "outputs": [
    {
     "data": {
      "text/plain": [
       "0"
      ]
     },
     "execution_count": 9,
     "metadata": {},
     "output_type": "execute_result"
    }
   ],
   "source": [
    "3//5"
   ]
  },
  {
   "cell_type": "code",
   "execution_count": 10,
   "id": "6e288f28",
   "metadata": {},
   "outputs": [
    {
     "data": {
      "text/plain": [
       "0"
      ]
     },
     "execution_count": 10,
     "metadata": {},
     "output_type": "execute_result"
    }
   ],
   "source": [
    "4//5"
   ]
  },
  {
   "cell_type": "code",
   "execution_count": 11,
   "id": "7cd21583",
   "metadata": {},
   "outputs": [
    {
     "data": {
      "text/plain": [
       "1"
      ]
     },
     "execution_count": 11,
     "metadata": {},
     "output_type": "execute_result"
    }
   ],
   "source": [
    "5//5\n"
   ]
  },
  {
   "cell_type": "code",
   "execution_count": 12,
   "id": "9a9dc487",
   "metadata": {},
   "outputs": [
    {
     "data": {
      "text/plain": [
       "2"
      ]
     },
     "execution_count": 12,
     "metadata": {},
     "output_type": "execute_result"
    }
   ],
   "source": [
    "100%7"
   ]
  },
  {
   "cell_type": "code",
   "execution_count": 13,
   "id": "38391557",
   "metadata": {},
   "outputs": [
    {
     "data": {
      "text/plain": [
       "3"
      ]
     },
     "execution_count": 13,
     "metadata": {},
     "output_type": "execute_result"
    }
   ],
   "source": [
    "3%7"
   ]
  },
  {
   "cell_type": "code",
   "execution_count": 14,
   "id": "47ba3fb0",
   "metadata": {},
   "outputs": [
    {
     "data": {
      "text/plain": [
       "4"
      ]
     },
     "execution_count": 14,
     "metadata": {},
     "output_type": "execute_result"
    }
   ],
   "source": [
    "4%7"
   ]
  },
  {
   "cell_type": "code",
   "execution_count": 15,
   "id": "5723111e",
   "metadata": {},
   "outputs": [
    {
     "data": {
      "text/plain": [
       "0"
      ]
     },
     "execution_count": 15,
     "metadata": {},
     "output_type": "execute_result"
    }
   ],
   "source": [
    "7%7"
   ]
  },
  {
   "cell_type": "code",
   "execution_count": 16,
   "id": "9b0cd643",
   "metadata": {},
   "outputs": [
    {
     "data": {
      "text/plain": [
       "125"
      ]
     },
     "execution_count": 16,
     "metadata": {},
     "output_type": "execute_result"
    }
   ],
   "source": [
    "5**3"
   ]
  },
  {
   "cell_type": "code",
   "execution_count": 17,
   "id": "2d6753fa",
   "metadata": {},
   "outputs": [
    {
     "data": {
      "text/plain": [
       "25"
      ]
     },
     "execution_count": 17,
     "metadata": {},
     "output_type": "execute_result"
    }
   ],
   "source": [
    "5**2"
   ]
  },
  {
   "cell_type": "code",
   "execution_count": 18,
   "id": "3f8caba5",
   "metadata": {},
   "outputs": [
    {
     "data": {
      "text/plain": [
       "625"
      ]
     },
     "execution_count": 18,
     "metadata": {},
     "output_type": "execute_result"
    }
   ],
   "source": [
    "5**4"
   ]
  },
  {
   "cell_type": "code",
   "execution_count": 19,
   "id": "48f7b314",
   "metadata": {},
   "outputs": [
    {
     "data": {
      "text/plain": [
       "1048576"
      ]
     },
     "execution_count": 19,
     "metadata": {},
     "output_type": "execute_result"
    }
   ],
   "source": [
    "X=4\n",
    "Y=10\n",
    "X**Y"
   ]
  },
  {
   "cell_type": "code",
   "execution_count": 22,
   "id": "5abacb06",
   "metadata": {},
   "outputs": [
    {
     "name": "stdout",
     "output_type": "stream",
     "text": [
      "Enter base:5\n",
      "Enter exponent4\n",
      "reasult= 625\n"
     ]
    }
   ],
   "source": [
    "X= int(input(\"Enter base:\"))\n",
    "Y= int(input(\"Enter exponent\"))\n",
    "print(\"reasult=\", X**Y)"
   ]
  },
  {
   "cell_type": "code",
   "execution_count": 23,
   "id": "bc2b2c57",
   "metadata": {},
   "outputs": [
    {
     "data": {
      "text/plain": [
       "20"
      ]
     },
     "execution_count": 23,
     "metadata": {},
     "output_type": "execute_result"
    }
   ],
   "source": [
    "2+3*6"
   ]
  },
  {
   "cell_type": "code",
   "execution_count": 24,
   "id": "a887f2f1",
   "metadata": {},
   "outputs": [
    {
     "data": {
      "text/plain": [
       "1.53125"
      ]
     },
     "execution_count": 24,
     "metadata": {},
     "output_type": "execute_result"
    }
   ],
   "source": [
    "((2+5)*(17-3))/(4**3)"
   ]
  },
  {
   "cell_type": "code",
   "execution_count": 25,
   "id": "2b4aced8",
   "metadata": {},
   "outputs": [
    {
     "data": {
      "text/plain": [
       "119010"
      ]
     },
     "execution_count": 25,
     "metadata": {},
     "output_type": "execute_result"
    }
   ],
   "source": [
    "200000-(45312+35678)"
   ]
  },
  {
   "cell_type": "code",
   "execution_count": 27,
   "id": "24f1eaed",
   "metadata": {},
   "outputs": [
    {
     "name": "stdout",
     "output_type": "stream",
     "text": [
      "Total population in the city is  200000\n"
     ]
    }
   ],
   "source": [
    "total_population = 200000\n",
    "print(\"Total population in the city is \", total_population)"
   ]
  },
  {
   "cell_type": "code",
   "execution_count": 35,
   "id": "647ab88a",
   "metadata": {},
   "outputs": [
    {
     "name": "stdout",
     "output_type": "stream",
     "text": [
      "Men population = 45312\n"
     ]
    }
   ],
   "source": [
    "men_population = 45312\n",
    "print(\"Men population =\", men_population)"
   ]
  },
  {
   "cell_type": "code",
   "execution_count": null,
   "id": "8a6f408a",
   "metadata": {},
   "outputs": [],
   "source": [
    "woomen_population = 35678\n",
    "print(\"women poplation\", women_population)\n",
    "child_population"
   ]
  }
 ],
 "metadata": {
  "kernelspec": {
   "display_name": "Python 3",
   "language": "python",
   "name": "python3"
  },
  "language_info": {
   "codemirror_mode": {
    "name": "ipython",
    "version": 3
   },
   "file_extension": ".py",
   "mimetype": "text/x-python",
   "name": "python",
   "nbconvert_exporter": "python",
   "pygments_lexer": "ipython3",
   "version": "3.8.8"
  }
 },
 "nbformat": 4,
 "nbformat_minor": 5
}
